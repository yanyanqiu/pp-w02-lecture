{
 "cells": [
  {
   "cell_type": "markdown",
   "metadata": {
    "slideshow": {
     "slide_type": "slide"
    }
   },
   "source": [
    "# Week 2 lecture - Review: Python basics"
   ]
  },
  {
   "cell_type": "markdown",
   "metadata": {
    "slideshow": {
     "slide_type": "slide"
    }
   },
   "source": [
    "## Variable assignment\n",
    "\n",
    "What will be the output?"
   ]
  },
  {
   "cell_type": "code",
   "execution_count": 4,
   "metadata": {},
   "outputs": [
    {
     "name": "stdout",
     "output_type": "stream",
     "text": [
      "10 8\n",
      "10 , 8\n",
      "10,8\n",
      "10,8\n"
     ]
    }
   ],
   "source": [
    "# Defining our variables\n",
    "a = 4*2\n",
    "b = a\n",
    "a += 2\n",
    "\n",
    "print(a, b)\n",
    "#print comma between value\n",
    "print(a,',',b) #默认是每个中间有一个空格 通过设置sep 可以改变默认\n",
    "print(f'{a},{b}')\n",
    "print(a,',',b,sep='')"
   ]
  },
  {
   "cell_type": "markdown",
   "metadata": {
    "slideshow": {
     "slide_type": "slide"
    }
   },
   "source": [
    "## Strings\n",
    "\n",
    "What will be the output?"
   ]
  },
  {
   "cell_type": "code",
   "execution_count": 7,
   "metadata": {},
   "outputs": [
    {
     "name": "stdout",
     "output_type": "stream",
     "text": [
      "Tommy\n",
      "7\n"
     ]
    }
   ],
   "source": [
    "name_1 = 'Maariya'\n",
    "name_2 = 'Tommy'\n",
    "name_3 = 'Jia'\n",
    "\n",
    "print(max(name_1, name_2, name_3))\n",
    "###max 是按照首字母排序 according to  the alphabetical order\n",
    "\n",
    "\n",
    "#disply the length of the longest\n",
    "print(max(len(name_1), len(name_2), len(name_3)))\n"
   ]
  },
  {
   "cell_type": "code",
   "execution_count": null,
   "metadata": {},
   "outputs": [],
   "source": []
  },
  {
   "cell_type": "code",
   "execution_count": null,
   "metadata": {},
   "outputs": [],
   "source": []
  },
  {
   "cell_type": "code",
   "execution_count": null,
   "metadata": {},
   "outputs": [],
   "source": []
  },
  {
   "cell_type": "code",
   "execution_count": null,
   "metadata": {},
   "outputs": [],
   "source": []
  },
  {
   "cell_type": "code",
   "execution_count": null,
   "metadata": {},
   "outputs": [],
   "source": []
  },
  {
   "cell_type": "markdown",
   "metadata": {
    "slideshow": {
     "slide_type": "slide"
    }
   },
   "source": [
    "## Formatted strings (f-strings)\n",
    "\n",
    "[Documentation on f-strings](https://docs.python.org/3/tutorial/inputoutput.html#formatted-string-literals)\n",
    "\n",
    "`Maariya's flatmates are Tommy and Jia.`\n",
    "\n",
    "`Jia's room is the largest.`"
   ]
  },
  {
   "cell_type": "code",
   "execution_count": 20,
   "metadata": {},
   "outputs": [
    {
     "name": "stdout",
     "output_type": "stream",
     "text": [
      "Maariya's flatmates are Tommy and Jia.Jia's room is the largest.\n",
      "Maariya's flatmates are Tommy and Jia.\n",
      "Jia's room is the largest.\n",
      "Maariya's flatmates are Tommy and Jia.\n",
      "\n",
      "\n",
      "Jia's room is the largest.\n",
      "Maariya's flatmates are Tommy and Jia.\n",
      "\n",
      "\n",
      "Jia's room is the largest.\n",
      "Maariya ==> Room 1\n",
      "Tommy ==> Room 1\n"
     ]
    }
   ],
   "source": [
    "#sentence = \"Maariya's flatmates are Tommy and Jia.\n",
    "sentence = \"Maariya\\'s flatmates are Tommy and Jia.\" ###特殊符号之前要加一个\\不然python识别不了\n",
    "sentence += \"Jia\\'s room is the largest.\"\n",
    "print(sentence)\n",
    "sentence1 = \"Maariya\\'s flatmates are Tommy and Jia.\\n\" #\\n mean new line \n",
    "sentence1 += \"Jia\\'s room is the largest.\"\n",
    "print(sentence1)\n",
    "sentence2 = \"Maariya\\'s flatmates are Tommy and Jia.\\n\"\n",
    "sentence2 += \"\\n\\nJia\\'s room is the largest.\"\n",
    "print(sentence2)\n",
    "sentence3 = f\"{name_1}\\'s flatmates are {name_2} and {name_3}.\\n\"\n",
    "sentence3 += f\"\\n\\n{name_3}'s room is the largest.\"\n",
    "print(sentence3)\n",
    "\n",
    "print(f'{name_1} ==> Room 1')\n",
    "print(f'{name_2} ==> Room 2')\n",
    "print(f'{name_3} ==> Room 3')"
   ]
  },
  {
   "cell_type": "markdown",
   "metadata": {},
   "source": [
    "`Charlotte ==> Room 1`\n",
    "\n",
    "`Robb      ==> Room 2`\n",
    "\n",
    "`Jia       ==> Room 3`"
   ]
  },
  {
   "cell_type": "code",
   "execution_count": null,
   "metadata": {},
   "outputs": [],
   "source": []
  },
  {
   "cell_type": "code",
   "execution_count": null,
   "metadata": {},
   "outputs": [],
   "source": []
  }
 ],
 "metadata": {
  "kernelspec": {
   "display_name": "Python 3 (ipykernel)",
   "language": "python",
   "name": "python3"
  },
  "language_info": {
   "codemirror_mode": {
    "name": "ipython",
    "version": 3
   },
   "file_extension": ".py",
   "mimetype": "text/x-python",
   "name": "python",
   "nbconvert_exporter": "python",
   "pygments_lexer": "ipython3",
   "version": "3.9.12"
  }
 },
 "nbformat": 4,
 "nbformat_minor": 4
}
